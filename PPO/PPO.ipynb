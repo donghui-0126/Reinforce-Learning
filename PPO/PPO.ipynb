{
 "cells": [
  {
   "cell_type": "code",
   "execution_count": 1,
   "metadata": {},
   "outputs": [
    {
     "name": "stderr",
     "output_type": "stream",
     "text": [
      "c:\\Users\\user\\anaconda3\\Lib\\site-packages\\botocore\\utils.py:15: DeprecationWarning: 'cgi' is deprecated and slated for removal in Python 3.13\n",
      "  import cgi\n",
      "c:\\Users\\user\\anaconda3\\Lib\\site-packages\\botocore\\httpsession.py:41: DeprecationWarning: 'urllib3.contrib.pyopenssl' module is deprecated and will be removed in a future release of urllib3 2.x. Read more in this issue: https://github.com/urllib3/urllib3/issues/2680\n",
      "  from urllib3.contrib.pyopenssl import orig_util_SSLContext as SSLContext\n",
      "c:\\Users\\user\\anaconda3\\Lib\\site-packages\\tensorflow\\python\\framework\\dtypes.py:35: DeprecationWarning: ml_dtypes.float8_e4m3b11 is deprecated. Use ml_dtypes.float8_e4m3b11fnuz\n",
      "  from tensorflow.tsl.python.lib.core import pywrap_ml_dtypes\n",
      "c:\\Users\\user\\anaconda3\\Lib\\site-packages\\pandas\\core\\arrays\\masked.py:60: UserWarning: Pandas requires version '1.3.6' or newer of 'bottleneck' (version '1.3.5' currently installed).\n",
      "  from pandas.core import (\n"
     ]
    }
   ],
   "source": [
    "import sys  \n",
    "sys.path.append(\"./src\")\n",
    "\n",
    "import warnings\n",
    "with warnings.catch_warnings():\n",
    "    warnings.filterwarnings(\"ignore\",category=DeprecationWarning)\n",
    "    from stable_baselines3 import PPO\n",
    "    import pandas as pd\n",
    "    import numpy as np\n",
    "    from gym_trading_env.environments import TradingEnv\n",
    "    import gymnasium as gym\n",
    "    from gym_trading_env.renderer import Renderer\n",
    "    import torch as th\n",
    "\n",
    "\n",
    "\n",
    "df = pd.read_csv(r\"C:\\Users\\user\\Documents\\GitHub\\Gym-Trading-Env\\pistar\\data\\SS00001.csv\", parse_dates=[\"date\"], index_col= \"date\")\n",
    "df.dropna(inplace=True)\n",
    "\n",
    "df['feature_close'] = (df['close'] - df['close'].min()) / (df['close'].max() - df['close'].min())\n",
    "df[\"feature_volume\"] = df['volume'].copy()\n",
    "df[\"feature_RSI\"] = df[\"RSI\"].copy()\n",
    "df[\"feature_MACD\"] = df[\"MACD\"].copy()\n",
    "df[\"feature_CCI\"] = df[\"CCI\"].copy()\n",
    "df[\"feature_ADX\"] = df[\"ADX\"].copy()\n",
    "\n",
    "\n",
    "def basic_reward_function(history):\n",
    "    return np.log(history[\"portfolio_valuation\", -1] / history[\"portfolio_valuation\", -2])\n",
    "\n",
    "def basic_reward_function_when_execute(history):\n",
    "    return np.log(history[\"portfolio_valuation\", -1] / history[\"portfolio_valuation\", 0])\n",
    "\n",
    "def sharpe_reward_function_when_execute(history):\n",
    "    return np.sum(history[\"portfolio_cum_return\", -1]) / np.std(history[\"portfolio_cum_return\", -1])\n",
    "\n",
    "\n",
    "\n",
    "def dynamic_feature_last_position_taken(history):\n",
    "    return history['position', -1]\n",
    "\n",
    "def dynamic_feature_asset(history):\n",
    "    return history['asset', -1]\n",
    "\n",
    "def dynamic_feature_fiat(history):\n",
    "    return history['fiat', -1]\n",
    "\n",
    "def dynamic_feature_step(history):\n",
    "    return history['step', -1] / 128\n",
    "\n",
    "env = gym.make(\n",
    "        \"TradingEnv\",\n",
    "        name= \"stock\",\n",
    "        df = df,\n",
    "        positions = [-2,-1, 0, 1,2],\n",
    "        dynamic_feature_functions = [dynamic_feature_last_position_taken, \n",
    "                                             dynamic_feature_asset, \n",
    "                                             dynamic_feature_fiat,\n",
    "                                             dynamic_feature_step],\n",
    "        reward_function_when_execute = basic_reward_function_when_execute,\n",
    "        windows = 1,\n",
    "        trading_fees = 0.04/100,\n",
    "        portfolio_initial_value = 1000,\n",
    "        initial_position ='random',\n",
    "        max_episode_duration = 256,\n",
    "        max_position_duration = 128,\n",
    "        verbose = 1,\n",
    "        render_mode= \"logs\",\n",
    "        random_start = True\n",
    "    )\n",
    "\n",
    "env.unwrapped.add_metric('Sharpe ratio', lambda history : np.sum(history['portfolio_return', -1])/np.std(history['portfolio_return', -1]))\n",
    "env.unwrapped.add_metric('Sortino ratio', lambda history : np.sum(history['portfolio_return'][-1])/np.std(history['portfolio_return'][-1][history['portfolio_return'][-1] < 0]))\n",
    "env.unwrapped.add_metric('Position Changes', lambda history : np.sum(np.diff(history['position']) != 0))\n",
    "env.unwrapped.add_metric('Episode Lenght', lambda history : len(history['position']))\n",
    "\n"
   ]
  },
  {
   "cell_type": "code",
   "execution_count": 109,
   "metadata": {},
   "outputs": [
    {
     "name": "stdout",
     "output_type": "stream",
     "text": [
      "idx: 343\n",
      "step: 0\n",
      "position: 0\n",
      "reward: 0\n",
      "portfolio_return: []\n",
      "execute: False\n",
      "fiat: 1000.0 | asset: 0.0\n",
      "portfolio_valuation: 1000.0\n"
     ]
    },
    {
     "data": {
      "text/plain": [
       "(1, 10)"
      ]
     },
     "execution_count": 109,
     "metadata": {},
     "output_type": "execute_result"
    }
   ],
   "source": [
    "observation, info = env.reset()\n",
    "print(f\"idx: {env.unwrapped.historical_info['idx', -1]}\")\n",
    "print(f\"step: {env.unwrapped.historical_info['step', -1]}\")\n",
    "print(f\"position: {env.unwrapped.historical_info['position', -1]}\")\n",
    "print(f\"reward: {env.unwrapped.historical_info['reward', -1]}\")\n",
    "print(f\"portfolio_return: {env.unwrapped.historical_info['portfolio_return', -1]}\")\n",
    "print(f\"execute: {env.unwrapped.historical_info['execute', -1]}\")\n",
    "print(f\"fiat: {env.unwrapped.historical_info['fiat', -1]} | asset: {env.unwrapped.historical_info['asset', -1]}\")\n",
    "print(f\"portfolio_valuation: {env.unwrapped.historical_info['portfolio_valuation', -1]}\")\n",
    "\n",
    "observation.shape"
   ]
  },
  {
   "cell_type": "code",
   "execution_count": 140,
   "metadata": {},
   "outputs": [
    {
     "name": "stdout",
     "output_type": "stream",
     "text": [
      "Market Return : -0.44%   |   Portfolio Return :  0.34%   |   Sharpe ratio : 0.24537967840074143   |   Sortino ratio : 0.7670640134528575   |   Position Changes : 3   |   Episode Lenght : 32   |   \n",
      "done: True\n",
      "\n",
      "idx: 374\n",
      "step: 31\n",
      "position: 0\n",
      "reward: 0.01152402947677462\n",
      "portfolio_return: [ 0.         -0.00040008 -0.01196142 -0.00928822  0.00043624 -0.00992681\n",
      "  0.01380555  0.00469965 -0.00621408  0.00616919  0.00331857 -0.01231532\n",
      " -0.00867166  0.00725094 -0.00482462 -0.00553866 -0.0125418   0.00522762\n",
      " -0.00850466 -0.01204146 -0.02018883 -0.01455461  0.02208618  0.01491594\n",
      "  0.00551047  0.05062102  0.0003868   0.00601826  0.01704476 -0.00899493\n",
      " -0.00817899]\n",
      "execute: True\n",
      "fiat: 999.2 | asset: 0.003664259791407387\n",
      "portfolio_valuation: 1003.350638839523\n"
     ]
    },
    {
     "data": {
      "text/plain": [
       "array([[ 2.3862917e-02,  0.0000000e+00,  5.0874832e+01, -5.2322025e+00,\n",
       "         6.9686714e+01,  2.6076548e+01,  0.0000000e+00,  3.6642598e-03,\n",
       "         9.9920001e+02,  2.4218750e-01]], dtype=float32)"
      ]
     },
     "execution_count": 140,
     "metadata": {},
     "output_type": "execute_result"
    }
   ],
   "source": [
    "observation, reward, done, truncated, info = env.step(2)\n",
    "print(\"done:\",done)\n",
    "print()\n",
    "print(f\"idx: {env.unwrapped.historical_info['idx', -1]}\")\n",
    "print(f\"step: {env.unwrapped.historical_info['step', -1]}\")\n",
    "print(f\"position: {env.unwrapped.historical_info['position', -1]}\")\n",
    "print(f\"reward: {env.unwrapped.historical_info['reward', -1]}\")\n",
    "print(f\"portfolio_return: {env.unwrapped.historical_info['portfolio_return', -1]}\")\n",
    "print(f\"execute: {env.unwrapped.historical_info['execute', -1]}\")\n",
    "print(f\"fiat: {env.unwrapped.historical_info['fiat', -1]} | asset: {env.unwrapped.historical_info['asset', -1]}\")\n",
    "print(f\"portfolio_valuation: {env.unwrapped.historical_info['portfolio_valuation', -1]}\")\n",
    "\n",
    "\n",
    "observation"
   ]
  },
  {
   "cell_type": "code",
   "execution_count": 72,
   "metadata": {},
   "outputs": [
    {
     "data": {
      "text/plain": [
       "-0.02254121"
      ]
     },
     "execution_count": 72,
     "metadata": {},
     "output_type": "execute_result"
    }
   ],
   "source": [
    "np.sum([-0.02174972, -0.00079149])"
   ]
  },
  {
   "cell_type": "code",
   "execution_count": 70,
   "metadata": {},
   "outputs": [
    {
     "data": {
      "text/plain": [
       "0.00925666727207552"
      ]
     },
     "execution_count": 70,
     "metadata": {},
     "output_type": "execute_result"
    }
   ],
   "source": [
    "np.std([-0.02174972, -0.00079149,  0.00623871,  0.01041037,  0.00836543,  0.00373657,\n",
    "  0.01275013,  0.00589088,  0.00718182, -0.00290046,  0.01138443])"
   ]
  },
  {
   "cell_type": "code",
   "execution_count": 17,
   "metadata": {},
   "outputs": [],
   "source": [
    "model = PPO.load(r\"C:\\Users\\user\\Documents\\GitHub\\Gym-Trading-Env\\ppo_chart_2.zip\")"
   ]
  },
  {
   "cell_type": "code",
   "execution_count": 18,
   "metadata": {},
   "outputs": [
    {
     "data": {
      "text/plain": [
       "(array(6, dtype=int64), None)"
      ]
     },
     "execution_count": 18,
     "metadata": {},
     "output_type": "execute_result"
    }
   ],
   "source": [
    "model.predict(observation)"
   ]
  },
  {
   "cell_type": "code",
   "execution_count": 3,
   "metadata": {},
   "outputs": [
    {
     "data": {
      "text/plain": [
       "0.9840072715261773"
      ]
     },
     "execution_count": 3,
     "metadata": {},
     "output_type": "execute_result"
    }
   ],
   "source": [
    "import numpy as np\n",
    "\n",
    "np.tanh(2.410369902185561)"
   ]
  }
 ],
 "metadata": {
  "kernelspec": {
   "display_name": "base",
   "language": "python",
   "name": "python3"
  },
  "language_info": {
   "codemirror_mode": {
    "name": "ipython",
    "version": 3
   },
   "file_extension": ".py",
   "mimetype": "text/x-python",
   "name": "python",
   "nbconvert_exporter": "python",
   "pygments_lexer": "ipython3",
   "version": "3.11.3"
  }
 },
 "nbformat": 4,
 "nbformat_minor": 2
}
